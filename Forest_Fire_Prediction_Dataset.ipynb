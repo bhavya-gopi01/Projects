{
  "cells": [
    {
      "cell_type": "markdown",
      "source": [
        "# 2. Notebook : Dataset Balance"
      ],
      "metadata": {
        "nteract": {
          "transient": {
            "deleting": false
          }
        }
      }
    },
    {
      "cell_type": "code",
      "source": [
        "#%pip uninstall azure-ai-ml\n",
        "#%pip install azure-ai-ml\n",
        "#%pip show azure-ai-ml #(the version value needs to be 1.5.0 or later)\n",
        "#%pip install -U mltable azureml-dataprep[pandas]\n",
        "#%pip install plotly==5.17.0\n",
        "#%pip install seaborn\n",
        "#%pip install --upgrade nbformat\n",
        "#%pip install tensorflow\n",
        "#%conda install graphviz"
      ],
      "outputs": [],
      "execution_count": null,
      "metadata": {
        "jupyter": {
          "source_hidden": false,
          "outputs_hidden": false
        },
        "nteract": {
          "transient": {
            "deleting": false
          }
        },
        "gather": {
          "logged": 1699982923757
        }
      }
    },
    {
      "cell_type": "code",
      "source": [
        "import warnings\n",
        "warnings.filterwarnings('ignore')\n",
        "import pandas as pd\n",
        "pd.set_option('display.max_columns', None)\n",
        "pd.set_option('display.max_rows', None)"
      ],
      "outputs": [],
      "execution_count": 1,
      "metadata": {
        "jupyter": {
          "source_hidden": false,
          "outputs_hidden": false
        },
        "nteract": {
          "transient": {
            "deleting": false
          }
        },
        "gather": {
          "logged": 1702480893144
        }
      }
    },
    {
      "cell_type": "code",
      "source": [
        "import numpy as np\n",
        "from azureml.core import Workspace, Dataset\n",
        "import plotly.graph_objects as go\n",
        "import plotly.express as px\n",
        "import seaborn as sns\n",
        "from datetime import datetime, timedelta\n",
        "import matplotlib as mpl\n",
        "import matplotlib.pyplot as plt\n",
        "import random\n"
      ],
      "outputs": [],
      "execution_count": 2,
      "metadata": {
        "jupyter": {
          "source_hidden": false,
          "outputs_hidden": false
        },
        "nteract": {
          "transient": {
            "deleting": false
          }
        },
        "gather": {
          "logged": 1702481029069
        }
      }
    },
    {
      "cell_type": "markdown",
      "source": [
        "##### Forest Fire Data"
      ],
      "metadata": {
        "nteract": {
          "transient": {
            "deleting": false
          }
        }
      }
    },
    {
      "cell_type": "code",
      "source": [
        "subscription_id = 'f0458613-2441-4d07-bf43-8d17d9e90a56'\n",
        "resource_group = 'capstone-project'\n",
        "workspace_name = 'ML_forestfireprediction'\n",
        "\n",
        "workspace = Workspace(subscription_id, resource_group, workspace_name)\n",
        "\n",
        "dataset = Dataset.get_by_name(workspace, name='forestfire')\n",
        "forest_fire_dataset=dataset.to_pandas_dataframe()"
      ],
      "outputs": [],
      "execution_count": 4,
      "metadata": {
        "jupyter": {
          "source_hidden": false,
          "outputs_hidden": false
        },
        "nteract": {
          "transient": {
            "deleting": false
          }
        },
        "gather": {
          "logged": 1702481106898
        }
      }
    },
    {
      "cell_type": "code",
      "source": [
        "#forest_fire_dataset.head()"
      ],
      "outputs": [],
      "execution_count": null,
      "metadata": {
        "jupyter": {
          "source_hidden": false,
          "outputs_hidden": false
        },
        "nteract": {
          "transient": {
            "deleting": false
          }
        },
        "gather": {
          "logged": 1701271495771
        }
      }
    },
    {
      "cell_type": "code",
      "source": [
        "#forest_fire_dataset.info()\n",
        "#forest_fire_dataset['SIZE_HA'].isnull().sum()\n"
      ],
      "outputs": [],
      "execution_count": 12,
      "metadata": {
        "jupyter": {
          "source_hidden": false,
          "outputs_hidden": false
        },
        "nteract": {
          "transient": {
            "deleting": false
          }
        },
        "gather": {
          "logged": 1702398052604
        }
      }
    },
    {
      "cell_type": "code",
      "source": [
        "forest_fire_dataset['OUT_DATE'] = forest_fire_dataset['OUT_DATE'].fillna(forest_fire_dataset['REP_DATE'])\n",
        "forest_fire_dataset['SIZE_HA']=forest_fire_dataset['SIZE_HA'].astype(str).astype(float)"
      ],
      "outputs": [],
      "execution_count": 5,
      "metadata": {
        "jupyter": {
          "source_hidden": false,
          "outputs_hidden": false
        },
        "nteract": {
          "transient": {
            "deleting": false
          }
        },
        "gather": {
          "logged": 1702481286856
        }
      }
    },
    {
      "cell_type": "markdown",
      "source": [
        "##### Weather Station Info\n",
        "To find closest station"
      ],
      "metadata": {
        "nteract": {
          "transient": {
            "deleting": false
          }
        }
      }
    },
    {
      "cell_type": "code",
      "source": [
        "dataset = Dataset.get_by_name(workspace, name='weatherforestfire')\n",
        "forest_fire_station_point=dataset.to_pandas_dataframe()"
      ],
      "outputs": [
        {
          "output_type": "stream",
          "name": "stderr",
          "text": "Message: rslex failed, falling back to clex.\nPayload: {\"pid\": 4694, \"source\": \"azureml.dataprep\", \"version\": \"4.11.3\", \"trace\": \"azureml|data|tabular_dataset.py, line 169 in function <lambda>.\\nazureml|data|dataset_error_handling.py, line 107 in function _try_execute.\\nazureml|data|tabular_dataset.py, line 169 in function to_pandas_dataframe.\", \"subscription\": \"\", \"run_id\": \"\", \"resource_group\": \"\", \"workspace_name\": \"\", \"experiment_id\": \"\", \"location\": \"\", \"rslex_version\": \"2.18.3\"}\nthread 'tokio-runtime-worker' panicked at 'send should succeed: SendError { .. }', /src/dataprep/Core/rust_lex/rslex-http-stream/src/http_client/hyper_client/execution.rs:78:37\nnote: run with `RUST_BACKTRACE=1` environment variable to display a backtrace\n"
        }
      ],
      "execution_count": 6,
      "metadata": {
        "jupyter": {
          "source_hidden": false,
          "outputs_hidden": false
        },
        "nteract": {
          "transient": {
            "deleting": false
          }
        },
        "gather": {
          "logged": 1702397449602
        }
      }
    },
    {
      "cell_type": "code",
      "source": [
        "#forest_fire_station_point.info()"
      ],
      "outputs": [],
      "execution_count": null,
      "metadata": {
        "jupyter": {
          "source_hidden": false,
          "outputs_hidden": false
        },
        "nteract": {
          "transient": {
            "deleting": false
          }
        },
        "gather": {
          "logged": 1700788458681
        }
      }
    },
    {
      "cell_type": "code",
      "source": [
        "#forest_fire_station_point.head()"
      ],
      "outputs": [],
      "execution_count": null,
      "metadata": {
        "jupyter": {
          "source_hidden": false,
          "outputs_hidden": false
        },
        "nteract": {
          "transient": {
            "deleting": false
          }
        },
        "gather": {
          "logged": 1700788460940
        }
      }
    },
    {
      "cell_type": "code",
      "source": [
        "forest_fire_station_point['CLIMATE_IDENTIFIER']=forest_fire_station_point['CLIMATE_IDENTIFIER'].astype(float)"
      ],
      "outputs": [],
      "execution_count": 7,
      "metadata": {
        "jupyter": {
          "source_hidden": false,
          "outputs_hidden": false
        },
        "nteract": {
          "transient": {
            "deleting": false
          }
        },
        "gather": {
          "logged": 1702397459851
        }
      }
    },
    {
      "cell_type": "markdown",
      "source": [
        "##### Distance Calculation"
      ],
      "metadata": {
        "nteract": {
          "transient": {
            "deleting": false
          }
        }
      }
    },
    {
      "cell_type": "code",
      "source": [
        "forest_fire_station_point['Euclideandist']  = np.sqrt((forest_fire_station_point['FOREST_FIRE_LATITUDE'] - forest_fire_station_point['WEATHER_STATION_LATITUDE'])**2 + (forest_fire_station_point['FOREST_FIRE_LONGITUDE'] - forest_fire_station_point['WEATHER_STATION_LONGITUDE'])**2)\n",
        "forest_fire_station_point['REP_DATE']=pd.to_datetime(forest_fire_station_point['REP_DATE'])\n",
        "forest_fire_station_point['DLY_FIRST_DATE']=pd.to_datetime(forest_fire_station_point['DLY_FIRST_DATE'])\n",
        "forest_fire_station_point['DLY_LAST_DATE']=pd.to_datetime(forest_fire_station_point['DLY_LAST_DATE'])\n",
        "unique_fid=forest_fire_station_point['FID'].unique()\n",
        "mapped_df=pd.DataFrame()"
      ],
      "outputs": [],
      "execution_count": 8,
      "metadata": {
        "jupyter": {
          "source_hidden": false,
          "outputs_hidden": false
        },
        "nteract": {
          "transient": {
            "deleting": false
          }
        },
        "gather": {
          "logged": 1702397462133
        }
      }
    },
    {
      "cell_type": "markdown",
      "source": [
        "###### Assign forest fire days weather data"
      ],
      "metadata": {
        "nteract": {
          "transient": {
            "deleting": false
          }
        }
      }
    },
    {
      "cell_type": "code",
      "source": [
        "for fid in unique_fid:\n",
        "    x=forest_fire_station_point.loc[forest_fire_station_point['FID'] == fid]\n",
        "    x= x.drop(x[x.REP_DATE > x.DLY_LAST_DATE].index)\n",
        "    x= x.drop(x[x.REP_DATE < x.DLY_FIRST_DATE].index)\n",
        "    mapped_df = pd.concat([mapped_df, x.loc[x['Euclideandist'] == x['Euclideandist'].min()]], ignore_index=True)"
      ],
      "outputs": [],
      "execution_count": 9,
      "metadata": {
        "jupyter": {
          "source_hidden": false,
          "outputs_hidden": false
        },
        "nteract": {
          "transient": {
            "deleting": false
          }
        },
        "gather": {
          "logged": 1702398026432
        }
      }
    },
    {
      "cell_type": "code",
      "source": [
        "#mapped_df.sample(n=5)"
      ],
      "outputs": [],
      "execution_count": null,
      "metadata": {
        "jupyter": {
          "source_hidden": false,
          "outputs_hidden": false
        },
        "nteract": {
          "transient": {
            "deleting": false
          }
        },
        "gather": {
          "logged": 1700789083363
        }
      }
    },
    {
      "cell_type": "code",
      "source": [
        "mapped_df = mapped_df.rename(columns={'CLIMATE_IDENTIFIER': 'ClimateID','REP_DATE': 'Date'})\n",
        "mapped_df['OUT_DATE']=pd.to_datetime(mapped_df['OUT_DATE'],format='%Y-%m-%d')\n",
        "mapped_df=mapped_df.drop(columns=['DLY_FIRST_DATE','DLY_LAST_DATE'],axis=1)"
      ],
      "outputs": [],
      "execution_count": 13,
      "metadata": {
        "jupyter": {
          "source_hidden": false,
          "outputs_hidden": false
        },
        "nteract": {
          "transient": {
            "deleting": false
          }
        },
        "gather": {
          "logged": 1702398059675
        }
      }
    },
    {
      "cell_type": "markdown",
      "source": [
        "##### Weather Data"
      ],
      "metadata": {
        "nteract": {
          "transient": {
            "deleting": false
          }
        }
      }
    },
    {
      "cell_type": "code",
      "source": [
        "dataset = Dataset.get_by_name(workspace, name='weatherdata')\n",
        "weather=dataset.to_pandas_dataframe()"
      ],
      "outputs": [],
      "execution_count": 14,
      "metadata": {
        "jupyter": {
          "source_hidden": false,
          "outputs_hidden": false
        },
        "nteract": {
          "transient": {
            "deleting": false
          }
        },
        "gather": {
          "logged": 1702398099439
        }
      }
    },
    {
      "cell_type": "code",
      "source": [
        "weather_df=weather.copy()\n",
        "weather_df['CLIMATE_IDENTIFIER']=weather_df['CLIMATE_IDENTIFIER'].astype(float)\n",
        "#weather_df.info()"
      ],
      "outputs": [],
      "execution_count": 15,
      "metadata": {
        "jupyter": {
          "source_hidden": false,
          "outputs_hidden": false
        },
        "nteract": {
          "transient": {
            "deleting": false
          }
        },
        "gather": {
          "logged": 1702398109488
        }
      }
    },
    {
      "cell_type": "markdown",
      "source": [
        "###### Data Pre-Process"
      ],
      "metadata": {
        "nteract": {
          "transient": {
            "deleting": false
          }
        }
      }
    },
    {
      "cell_type": "markdown",
      "source": [
        "1. Remove trailing spaces in object dtype"
      ],
      "metadata": {
        "nteract": {
          "transient": {
            "deleting": false
          }
        }
      }
    },
    {
      "cell_type": "code",
      "source": [
        "cols = weather_df.select_dtypes(['object']).columns\n",
        "weather_df[cols] = weather_df[cols].apply(lambda x: x.str.strip())"
      ],
      "outputs": [],
      "execution_count": 16,
      "metadata": {
        "jupyter": {
          "source_hidden": false,
          "outputs_hidden": false
        },
        "nteract": {
          "transient": {
            "deleting": false
          }
        },
        "gather": {
          "logged": 1702398118159
        }
      }
    },
    {
      "cell_type": "markdown",
      "source": [
        "2. Replace None/M values in columns"
      ],
      "metadata": {
        "nteract": {
          "transient": {
            "deleting": false
          }
        }
      }
    },
    {
      "cell_type": "code",
      "source": [
        "def replaceString(column):\n",
        "    weather_df[column] = weather_df[column].fillna(value=np.nan)\n",
        "\n",
        "\n",
        "replaceString('MEAN_TEMPERATURE')\n",
        "replaceString('MAX_REL_HUMIDITY')\n",
        "replaceString('COOLING_DEGREE_DAYS')\n",
        "replaceString('MIN_REL_HUMIDITY')\n",
        "replaceString('TOTAL_PRECIPITATION')\n",
        "replaceString('MAX_TEMPERATURE')\n",
        "replaceString('SNOW_ON_GROUND')\n",
        "replaceString('TOTAL_SNOW')\n",
        "replaceString('HEATING_DEGREE_DAYS')\n",
        "replaceString('DIRECTION_MAX_GUST')\n",
        "replaceString('MIN_TEMPERATURE')\n",
        "replaceString('SPEED_MAX_GUST')\n",
        "replaceString('TOTAL_RAIN')\n"
      ],
      "outputs": [],
      "execution_count": 17,
      "metadata": {
        "jupyter": {
          "source_hidden": false,
          "outputs_hidden": false
        },
        "nteract": {
          "transient": {
            "deleting": false
          }
        },
        "gather": {
          "logged": 1702398127782
        }
      }
    },
    {
      "cell_type": "markdown",
      "source": [
        "3. Fill with previous value or with '0' for early 60's"
      ],
      "metadata": {
        "nteract": {
          "transient": {
            "deleting": false
          }
        }
      }
    },
    {
      "cell_type": "code",
      "source": [
        "weather_df=weather_df.fillna(method='ffill')\n",
        "weather_df = weather_df.fillna(0)"
      ],
      "outputs": [],
      "execution_count": 18,
      "metadata": {
        "jupyter": {
          "source_hidden": false,
          "outputs_hidden": false
        },
        "nteract": {
          "transient": {
            "deleting": false
          }
        },
        "gather": {
          "logged": 1702398133312
        }
      }
    },
    {
      "cell_type": "code",
      "source": [
        "#weather_df.isnull().any()"
      ],
      "outputs": [],
      "execution_count": null,
      "metadata": {
        "jupyter": {
          "source_hidden": false,
          "outputs_hidden": false
        },
        "nteract": {
          "transient": {
            "deleting": false
          }
        },
        "gather": {
          "logged": 1700789155227
        }
      }
    },
    {
      "cell_type": "code",
      "source": [
        "weather_df = weather_df.rename(columns={'CLIMATE_IDENTIFIER': 'ClimateID','LOCAL_DATE':'Date'})\n",
        "weather_df['Date'] = pd.to_datetime(weather_df['Date'])"
      ],
      "outputs": [],
      "execution_count": 19,
      "metadata": {
        "jupyter": {
          "source_hidden": false,
          "outputs_hidden": false
        },
        "nteract": {
          "transient": {
            "deleting": false
          }
        },
        "gather": {
          "logged": 1702398135669
        }
      }
    },
    {
      "cell_type": "markdown",
      "source": [
        "##### Merge Datasets"
      ],
      "metadata": {
        "nteract": {
          "transient": {
            "deleting": false
          }
        }
      }
    },
    {
      "cell_type": "code",
      "source": [
        "#weather_df.info()"
      ],
      "outputs": [],
      "execution_count": null,
      "metadata": {
        "jupyter": {
          "source_hidden": false,
          "outputs_hidden": false
        },
        "nteract": {
          "transient": {
            "deleting": false
          }
        },
        "gather": {
          "logged": 1700789159393
        }
      }
    },
    {
      "cell_type": "code",
      "source": [
        "merged_df = pd.merge(mapped_df, weather_df, on=['ClimateID','Date'], how='inner')"
      ],
      "outputs": [],
      "execution_count": 20,
      "metadata": {
        "jupyter": {
          "source_hidden": false,
          "outputs_hidden": false
        },
        "nteract": {
          "transient": {
            "deleting": false
          }
        },
        "gather": {
          "logged": 1702398138639
        }
      }
    },
    {
      "cell_type": "code",
      "source": [
        "#merged_df[['FID','FIRE_ID','FOREST_FIRE_LATITUDE','FOREST_FIRE_LONGITUDE','Date','OUT_DATE','SIZE_HA','YEAR','MONTH','DAY','ClimateID','WEATHER_STATION_LATITUDE','WEATHER_STATION_LONGITUDE','MEAN_TEMPERATURE',\t'STATION_NAME',\n",
        "#'MAX_REL_HUMIDITY',\t'COOLING_DEGREE_DAYS','MIN_REL_HUMIDITY','TOTAL_SNOW','TOTAL_PRECIPITATION']].sample(n=7)"
      ],
      "outputs": [],
      "execution_count": null,
      "metadata": {
        "jupyter": {
          "source_hidden": false,
          "outputs_hidden": false
        },
        "nteract": {
          "transient": {
            "deleting": false
          }
        },
        "gather": {
          "logged": 1700789162874
        }
      }
    },
    {
      "cell_type": "markdown",
      "source": [
        "##### Merge Data Validation"
      ],
      "metadata": {
        "nteract": {
          "transient": {
            "deleting": false
          }
        }
      }
    },
    {
      "cell_type": "code",
      "source": [
        "#mapped_df.loc[mapped_df['FID']==221761]"
      ],
      "outputs": [],
      "execution_count": null,
      "metadata": {
        "jupyter": {
          "source_hidden": false,
          "outputs_hidden": false
        },
        "nteract": {
          "transient": {
            "deleting": false
          }
        },
        "gather": {
          "logged": 1700789164694
        }
      }
    },
    {
      "cell_type": "code",
      "source": [
        "#mapped_df.loc[mapped_df['FID']==221779]"
      ],
      "outputs": [],
      "execution_count": null,
      "metadata": {
        "jupyter": {
          "source_hidden": false,
          "outputs_hidden": false
        },
        "nteract": {
          "transient": {
            "deleting": false
          }
        },
        "gather": {
          "logged": 1700789165540
        }
      }
    },
    {
      "cell_type": "markdown",
      "source": [
        "<b> As seen the data for a given Fire ID is associated with weather data for that day captured by the weather station.</b>"
      ],
      "metadata": {
        "nteract": {
          "transient": {
            "deleting": false
          }
        }
      }
    },
    {
      "cell_type": "markdown",
      "source": [
        "##### Balance Dataset"
      ],
      "metadata": {
        "nteract": {
          "transient": {
            "deleting": false
          }
        }
      }
    },
    {
      "cell_type": "code",
      "source": [
        "merged_df['FIRE_EVENT']=1\n",
        "#merged_df.head(3)"
      ],
      "outputs": [],
      "execution_count": 21,
      "metadata": {
        "jupyter": {
          "source_hidden": false,
          "outputs_hidden": false
        },
        "nteract": {
          "transient": {
            "deleting": false
          }
        },
        "gather": {
          "logged": 1702398145313
        }
      }
    },
    {
      "cell_type": "markdown",
      "source": [
        "##### Include non - fire events weather data"
      ],
      "metadata": {
        "nteract": {
          "transient": {
            "deleting": false
          }
        }
      }
    },
    {
      "cell_type": "code",
      "source": [
        "length=len(merged_df)\n",
        "#n_days=10"
      ],
      "outputs": [],
      "execution_count": 23,
      "metadata": {
        "jupyter": {
          "source_hidden": false,
          "outputs_hidden": false
        },
        "nteract": {
          "transient": {
            "deleting": false
          }
        },
        "gather": {
          "logged": 1702398206968
        }
      }
    },
    {
      "cell_type": "code",
      "source": [
        "balanced_dataset_tmp=pd.DataFrame()\n",
        "for i in range(length):\n",
        "        if(merged_df[\"YEAR\"].values[i]>1960):\n",
        "                latestDate = pd.to_datetime(merged_df[\"Date\"].values[i])\n",
        "                n_days_ago = (latestDate) - timedelta(days=random.randint(1,15))\n",
        "                climate_id = merged_df['ClimateID'].values[i]\n",
        "                temp_df= weather_df[weather_df['ClimateID']==climate_id]\n",
        "                df=temp_df[temp_df['Date'].between(n_days_ago, latestDate)]\n",
        "                df['FID']=merged_df['FID'].values[i]\n",
        "                df['FIRE_ID']=merged_df['FIRE_ID'].values[i]\n",
        "                df['FOREST_FIRE_LATITUDE']=merged_df['FOREST_FIRE_LATITUDE'].values[i]\n",
        "                df['FOREST_FIRE_LONGITUDE']=merged_df['FOREST_FIRE_LONGITUDE'].values[i]\n",
        "                df['WEATHER_STATION_LATITUDE']=merged_df['WEATHER_STATION_LATITUDE'].values[i]\n",
        "                df['WEATHER_STATION_LONGITUDE']=merged_df['WEATHER_STATION_LONGITUDE'].values[i]\n",
        "                df['OUT_DATE']=pd.to_datetime('1800-12-31',format='%Y-%m-%d')\n",
        "                df['SIZE_HA']=random.randint(-1, 1)\n",
        "                df['YEAR']=merged_df['YEAR'].values[i]\n",
        "                df['MONTH']=merged_df['MONTH'].values[i]\n",
        "                df['DAY']=merged_df['DAY'].values[i]\n",
        "                df['Euclideandist']=-1\n",
        "                df['FIRE_EVENT']=0\n",
        "                balanced_dataset_tmp = pd.concat([balanced_dataset_tmp,df], ignore_index=True)"
      ],
      "outputs": [],
      "execution_count": 28,
      "metadata": {
        "jupyter": {
          "source_hidden": false,
          "outputs_hidden": false
        },
        "nteract": {
          "transient": {
            "deleting": false
          }
        },
        "gather": {
          "logged": 1702399060182
        }
      }
    },
    {
      "cell_type": "code",
      "source": [
        "balanced_dataset=pd.concat([merged_df,balanced_dataset_tmp], ignore_index=True)"
      ],
      "outputs": [],
      "execution_count": 29,
      "metadata": {
        "jupyter": {
          "source_hidden": false,
          "outputs_hidden": false
        },
        "nteract": {
          "transient": {
            "deleting": false
          }
        },
        "gather": {
          "logged": 1702399064359
        }
      }
    },
    {
      "cell_type": "code",
      "source": [
        "#balanced_dataset.head()"
      ],
      "outputs": [],
      "execution_count": null,
      "metadata": {
        "jupyter": {
          "source_hidden": false,
          "outputs_hidden": false
        },
        "nteract": {
          "transient": {
            "deleting": false
          }
        },
        "gather": {
          "logged": 1700789672259
        }
      }
    },
    {
      "cell_type": "code",
      "source": [
        "balanced_dataset['OUT_DATE'] = balanced_dataset['OUT_DATE'].fillna(balanced_dataset['Date'])\n",
        "balanced_dataset['LOCAL_OUT_DAY'] = balanced_dataset['OUT_DATE'].dt.day\n",
        "balanced_dataset['LOCAL_OUT_MONTH'] = balanced_dataset['OUT_DATE'].dt.month\n",
        "balanced_dataset['LOCAL_OUT_YEAR'] = balanced_dataset['OUT_DATE'].dt.year"
      ],
      "outputs": [],
      "execution_count": 30,
      "metadata": {
        "jupyter": {
          "source_hidden": false,
          "outputs_hidden": false
        },
        "nteract": {
          "transient": {
            "deleting": false
          }
        },
        "gather": {
          "logged": 1702399066255
        }
      }
    },
    {
      "cell_type": "code",
      "source": [
        "balanced_dataset.to_csv(\"dataset_final.csv\", header=balanced_dataset.columns)\n"
      ],
      "outputs": [],
      "execution_count": 34,
      "metadata": {
        "jupyter": {
          "source_hidden": false,
          "outputs_hidden": false
        },
        "nteract": {
          "transient": {
            "deleting": false
          }
        },
        "gather": {
          "logged": 1702399089832
        }
      }
    },
    {
      "cell_type": "markdown",
      "source": [
        "#### Dataset was loaded to csv because the space on this Notebook was exceeded."
      ],
      "metadata": {
        "nteract": {
          "transient": {
            "deleting": false
          }
        }
      }
    },
    {
      "cell_type": "code",
      "source": [],
      "outputs": [],
      "execution_count": null,
      "metadata": {
        "jupyter": {
          "source_hidden": false,
          "outputs_hidden": false
        },
        "nteract": {
          "transient": {
            "deleting": false
          }
        }
      }
    }
  ],
  "metadata": {
    "kernelspec": {
      "name": "python310-sdkv2",
      "language": "python",
      "display_name": "Python 3.10 - SDK v2"
    },
    "language_info": {
      "name": "python",
      "version": "3.10.11",
      "mimetype": "text/x-python",
      "codemirror_mode": {
        "name": "ipython",
        "version": 3
      },
      "pygments_lexer": "ipython3",
      "nbconvert_exporter": "python",
      "file_extension": ".py"
    },
    "microsoft": {
      "ms_spell_check": {
        "ms_spell_check_language": "en"
      },
      "host": {
        "AzureML": {
          "notebookHasBeenCompleted": true
        }
      }
    },
    "kernel_info": {
      "name": "python310-sdkv2"
    },
    "nteract": {
      "version": "nteract-front-end@1.0.0"
    }
  },
  "nbformat": 4,
  "nbformat_minor": 2
}